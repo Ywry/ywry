{
  "cells": [
    {
      "cell_type": "code",
      "source": [
        "# Crie uma lista de compras de um supermercado com 10 elementos.\n",
        "# Na posição 6 crie uma lista com 5 elementos.\n",
        "\n",
        "# Altere 2 elementos da lista.\n",
        "# Exclua 3 elementos da lista.\n",
        "# Adicione 4 elementos na lista.\n",
        "\n",
        "# Acesse o terceiro e quinto elemento da lista.\n",
        "\n",
        "# Mostre o número de elementos da lista.\n",
        "\n",
        "# Mostre todos os elementos da lista.\n",
        "\n",
        "compras = ['macarrão', 'arroz', 'feijão', 'molho de tomate', 'alho', 'tempero', ['sabonete', 'shampoo', 'condicionador', 'creme', 'pasta'], 'pão', 'queijo', 'galinha']\n",
        "print (compras)\n",
        "\n"
      ],
      "metadata": {
        "colab": {
          "base_uri": "https://localhost:8080/"
        },
        "id": "KSd9lhzf4gEK",
        "outputId": "33ec0dae-e666-4c5d-8044-17150a554298"
      },
      "execution_count": 55,
      "outputs": [
        {
          "output_type": "stream",
          "name": "stdout",
          "text": [
            "['macarrão', 'arroz', 'feijão', 'molho de tomate', 'alho', 'tempero', ['sabonete', 'shampoo', 'condicionador', 'creme', 'pasta'], 'pão', 'queijo', 'galinha']\n"
          ]
        }
      ]
    },
    {
      "cell_type": "code",
      "source": [
        "compras[1:2] = 'bolo' , 'batata'\n",
        "print (compras)"
      ],
      "metadata": {
        "colab": {
          "base_uri": "https://localhost:8080/"
        },
        "id": "JTgdQFyiEIcG",
        "outputId": "19b06bb5-6724-4872-b543-0a8d6067496d"
      },
      "execution_count": 56,
      "outputs": [
        {
          "output_type": "stream",
          "name": "stdout",
          "text": [
            "['macarrão', 'bolo', 'batata', 'feijão', 'molho de tomate', 'alho', 'tempero', ['sabonete', 'shampoo', 'condicionador', 'creme', 'pasta'], 'pão', 'queijo', 'galinha']\n"
          ]
        }
      ]
    },
    {
      "cell_type": "code",
      "source": [
        "compras.pop(1)\n",
        "compras.pop(2)\n",
        "compras.pop(3)\n",
        "print (compras)"
      ],
      "metadata": {
        "colab": {
          "base_uri": "https://localhost:8080/"
        },
        "id": "SMYEHgxNEaYy",
        "outputId": "352e85ed-5a7e-4862-fb6c-d0bdf6989437"
      },
      "execution_count": 57,
      "outputs": [
        {
          "output_type": "stream",
          "name": "stdout",
          "text": [
            "['macarrão', 'batata', 'molho de tomate', 'tempero', ['sabonete', 'shampoo', 'condicionador', 'creme', 'pasta'], 'pão', 'queijo', 'galinha']\n"
          ]
        }
      ]
    },
    {
      "cell_type": "code",
      "source": [
        "compras.insert(1, 'café')\n",
        "compras.insert(0, 'chá')\n",
        "compras.insert(2, 'biscoito')\n",
        "compras.insert(9, 'manteiga')\n",
        "print (compras)"
      ],
      "metadata": {
        "colab": {
          "base_uri": "https://localhost:8080/"
        },
        "id": "bMDNRm3BEyja",
        "outputId": "3fd7372a-341d-4b46-e3d2-de7895b2cf36"
      },
      "execution_count": 58,
      "outputs": [
        {
          "output_type": "stream",
          "name": "stdout",
          "text": [
            "['chá', 'macarrão', 'biscoito', 'café', 'batata', 'molho de tomate', 'tempero', ['sabonete', 'shampoo', 'condicionador', 'creme', 'pasta'], 'pão', 'manteiga', 'queijo', 'galinha']\n"
          ]
        }
      ]
    },
    {
      "cell_type": "code",
      "source": [
        "print(compras [2])\n",
        "print(compras[4])"
      ],
      "metadata": {
        "colab": {
          "base_uri": "https://localhost:8080/"
        },
        "id": "jvkVYKBSF2ym",
        "outputId": "8f860347-6458-4ffb-b57b-2f703306cecb"
      },
      "execution_count": 59,
      "outputs": [
        {
          "output_type": "stream",
          "name": "stdout",
          "text": [
            "biscoito\n",
            "batata\n"
          ]
        }
      ]
    },
    {
      "cell_type": "code",
      "source": [
        "len(compras)"
      ],
      "metadata": {
        "colab": {
          "base_uri": "https://localhost:8080/"
        },
        "id": "Hm-fkBsTJ15e",
        "outputId": "e8bfd6dd-eff6-4752-ff09-9213a79c4810"
      },
      "execution_count": 62,
      "outputs": [
        {
          "output_type": "execute_result",
          "data": {
            "text/plain": [
              "12"
            ]
          },
          "metadata": {},
          "execution_count": 62
        }
      ]
    },
    {
      "cell_type": "code",
      "source": [
        "compras"
      ],
      "metadata": {
        "colab": {
          "base_uri": "https://localhost:8080/"
        },
        "id": "CWpwc4bjJHwy",
        "outputId": "5dd66233-4270-488c-a4f3-b2665f4d70c4"
      },
      "execution_count": 61,
      "outputs": [
        {
          "output_type": "execute_result",
          "data": {
            "text/plain": [
              "['chá',\n",
              " 'macarrão',\n",
              " 'biscoito',\n",
              " 'café',\n",
              " 'batata',\n",
              " 'molho de tomate',\n",
              " 'tempero',\n",
              " ['sabonete', 'shampoo', 'condicionador', 'creme', 'pasta'],\n",
              " 'pão',\n",
              " 'manteiga',\n",
              " 'queijo',\n",
              " 'galinha']"
            ]
          },
          "metadata": {},
          "execution_count": 61
        }
      ]
    },
    {
      "cell_type": "code",
      "source": [],
      "metadata": {
        "id": "f2XMLjByIQZx"
      },
      "execution_count": null,
      "outputs": []
    },
    {
      "cell_type": "markdown",
      "source": [],
      "metadata": {
        "id": "aDLX5tb9-LuF"
      }
    }
  ],
  "metadata": {
    "colab": {
      "provenance": []
    },
    "kernelspec": {
      "display_name": "Python 3",
      "name": "python3"
    }
  },
  "nbformat": 4,
  "nbformat_minor": 0
}