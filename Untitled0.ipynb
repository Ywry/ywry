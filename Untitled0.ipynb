{
  "nbformat": 4,
  "nbformat_minor": 0,
  "metadata": {
    "colab": {
      "provenance": []
    },
    "kernelspec": {
      "name": "python3",
      "display_name": "Python 3"
    },
    "language_info": {
      "name": "python"
    }
  },
  "cells": [
    {
      "cell_type": "code",
      "execution_count": null,
      "metadata": {
        "colab": {
          "base_uri": "https://localhost:8080/"
        },
        "id": "wakThTjFRv11",
        "outputId": "57003ed9-76f4-4325-a4ad-7dfbe40fbb93"
      },
      "outputs": [
        {
          "output_type": "stream",
          "name": "stdout",
          "text": [
            "1\n",
            "4\n",
            "7\n",
            "10\n",
            "13\n",
            "16\n",
            "19\n",
            "22\n",
            "25\n",
            "28\n",
            "31\n",
            "34\n",
            "37\n",
            "40\n"
          ]
        }
      ],
      "source": [
        "#programa que imprime na tela apenas os numeros impares de 1 a 50\n",
        "\n",
        "for num in range (1, 51, 2):\n",
        "  print(num)\n",
        "\n",
        "\n",
        "\n",
        "# questao 2\n",
        "\n",
        "cont = -2\n",
        "while cont <=39:\n",
        "  cont +=3\n",
        "  print(cont)\n",
        "\n",
        "# questao 3\n",
        "\n",
        "for n in range(2, 32, 2):\n",
        "  if n == 10 or n == 20 or n == 3\n",
        "    continue\n",
        "  print(n)\n"
      ]
    }
  ]
}